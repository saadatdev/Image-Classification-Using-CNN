{
  "nbformat": 4,
  "nbformat_minor": 0,
  "metadata": {
    "colab": {
      "provenance": [],
      "gpuType": "T4",
      "authorship_tag": "ABX9TyMmVF7+ZZcHGGSKA7XtxIuS",
      "include_colab_link": true
    },
    "kernelspec": {
      "name": "python3",
      "display_name": "Python 3"
    },
    "language_info": {
      "name": "python"
    },
    "accelerator": "GPU"
  },
  "cells": [
    {
      "cell_type": "markdown",
      "metadata": {
        "id": "view-in-github",
        "colab_type": "text"
      },
      "source": [
        "<a href=\"https://colab.research.google.com/github/saadiiroy/Image-Classification-Using-CNN/blob/main/CNN.ipynb\" target=\"_parent\"><img src=\"https://colab.research.google.com/assets/colab-badge.svg\" alt=\"Open In Colab\"/></a>"
      ]
    },
    {
      "cell_type": "code",
      "source": [
        "pip install keras"
      ],
      "metadata": {
        "colab": {
          "base_uri": "https://localhost:8080/"
        },
        "id": "8v6Ddbg2WzYd",
        "outputId": "852dbe7b-0aff-4acd-f7c9-dba9118a75bf"
      },
      "execution_count": null,
      "outputs": [
        {
          "output_type": "stream",
          "name": "stdout",
          "text": [
            "Requirement already satisfied: keras in /usr/local/lib/python3.10/dist-packages (2.13.1)\n"
          ]
        }
      ]
    },
    {
      "cell_type": "code",
      "execution_count": null,
      "metadata": {
        "id": "TL9H48sgNmJS"
      },
      "outputs": [],
      "source": [
        "import numpy as np\n",
        "import pandas as pd\n",
        "import keras\n",
        "\n",
        "from keras.models import Sequential\n",
        "from keras.layers import Dense,Flatten\n",
        "from keras.layers import Conv2D ,MaxPooling2D\n",
        "import tensorflow as tf\n"
      ]
    },
    {
      "cell_type": "code",
      "source": [
        "from keras.datasets import mnist\n",
        "(X_train , Y_train), (X_test,Y_test)= mnist.load_data()\n",
        "X_train"
      ],
      "metadata": {
        "colab": {
          "base_uri": "https://localhost:8080/"
        },
        "id": "y_-YsPbiWsAK",
        "outputId": "e05d29ce-ce53-4299-bcbb-78792ef09eab"
      },
      "execution_count": null,
      "outputs": [
        {
          "output_type": "stream",
          "name": "stdout",
          "text": [
            "Downloading data from https://storage.googleapis.com/tensorflow/tf-keras-datasets/mnist.npz\n",
            "11490434/11490434 [==============================] - 0s 0us/step\n"
          ]
        },
        {
          "output_type": "execute_result",
          "data": {
            "text/plain": [
              "array([[[0, 0, 0, ..., 0, 0, 0],\n",
              "        [0, 0, 0, ..., 0, 0, 0],\n",
              "        [0, 0, 0, ..., 0, 0, 0],\n",
              "        ...,\n",
              "        [0, 0, 0, ..., 0, 0, 0],\n",
              "        [0, 0, 0, ..., 0, 0, 0],\n",
              "        [0, 0, 0, ..., 0, 0, 0]],\n",
              "\n",
              "       [[0, 0, 0, ..., 0, 0, 0],\n",
              "        [0, 0, 0, ..., 0, 0, 0],\n",
              "        [0, 0, 0, ..., 0, 0, 0],\n",
              "        ...,\n",
              "        [0, 0, 0, ..., 0, 0, 0],\n",
              "        [0, 0, 0, ..., 0, 0, 0],\n",
              "        [0, 0, 0, ..., 0, 0, 0]],\n",
              "\n",
              "       [[0, 0, 0, ..., 0, 0, 0],\n",
              "        [0, 0, 0, ..., 0, 0, 0],\n",
              "        [0, 0, 0, ..., 0, 0, 0],\n",
              "        ...,\n",
              "        [0, 0, 0, ..., 0, 0, 0],\n",
              "        [0, 0, 0, ..., 0, 0, 0],\n",
              "        [0, 0, 0, ..., 0, 0, 0]],\n",
              "\n",
              "       ...,\n",
              "\n",
              "       [[0, 0, 0, ..., 0, 0, 0],\n",
              "        [0, 0, 0, ..., 0, 0, 0],\n",
              "        [0, 0, 0, ..., 0, 0, 0],\n",
              "        ...,\n",
              "        [0, 0, 0, ..., 0, 0, 0],\n",
              "        [0, 0, 0, ..., 0, 0, 0],\n",
              "        [0, 0, 0, ..., 0, 0, 0]],\n",
              "\n",
              "       [[0, 0, 0, ..., 0, 0, 0],\n",
              "        [0, 0, 0, ..., 0, 0, 0],\n",
              "        [0, 0, 0, ..., 0, 0, 0],\n",
              "        ...,\n",
              "        [0, 0, 0, ..., 0, 0, 0],\n",
              "        [0, 0, 0, ..., 0, 0, 0],\n",
              "        [0, 0, 0, ..., 0, 0, 0]],\n",
              "\n",
              "       [[0, 0, 0, ..., 0, 0, 0],\n",
              "        [0, 0, 0, ..., 0, 0, 0],\n",
              "        [0, 0, 0, ..., 0, 0, 0],\n",
              "        ...,\n",
              "        [0, 0, 0, ..., 0, 0, 0],\n",
              "        [0, 0, 0, ..., 0, 0, 0],\n",
              "        [0, 0, 0, ..., 0, 0, 0]]], dtype=uint8)"
            ]
          },
          "metadata": {},
          "execution_count": 3
        }
      ]
    },
    {
      "cell_type": "code",
      "source": [
        "X_train=X_train.reshape(X_train.shape[0],28,28,1)\n",
        "X_test=X_test.reshape(X_test.shape[0],28,28,1)\n",
        "X_train=X_train.astype('float32')\n",
        "X_test=X_test.astype('float32')\n",
        "X_train /=255\n",
        "X_test /=255"
      ],
      "metadata": {
        "id": "bCcsm9hKW21c"
      },
      "execution_count": null,
      "outputs": []
    },
    {
      "cell_type": "code",
      "source": [
        "from keras.utils import to_categorical\n",
        "classes=10\n",
        "Y_train=to_categorical(Y_train,classes)\n",
        "Y_test=to_categorical(Y_test,classes)\n",
        "X_train.shape\n"
      ],
      "metadata": {
        "colab": {
          "base_uri": "https://localhost:8080/"
        },
        "id": "25IOuUA6Y0eu",
        "outputId": "af3132cb-ea5e-44ca-ec6e-201eba290937"
      },
      "execution_count": null,
      "outputs": [
        {
          "output_type": "execute_result",
          "data": {
            "text/plain": [
              "(60000, 28, 28, 1)"
            ]
          },
          "metadata": {},
          "execution_count": 5
        }
      ]
    },
    {
      "cell_type": "code",
      "source": [
        "img_row, img_col,chanels=28,28,1\n",
        "filter=[6,32,80,120]\n",
        "clasess=10\n"
      ],
      "metadata": {
        "id": "OkCg-uJJZvYi"
      },
      "execution_count": null,
      "outputs": []
    },
    {
      "cell_type": "code",
      "source": [
        "\n",
        "\n",
        "model = Sequential()\n",
        "model.add(Conv2D(filters=filter[0], kernel_size=(3, 3), padding='same', activation='relu', input_shape=(img_row, img_col, chanels)))\n",
        "model.add(MaxPooling2D(pool_size=(2, 2)))\n",
        "\n",
        "model.add(Conv2D(filters=filter[1], kernel_size=(2, 2), padding='same', activation='relu'))\n",
        "model.add(MaxPooling2D(pool_size=(2, 2)))\n",
        "\n",
        "model.add(Conv2D(filters=filter[2], kernel_size=(2, 2), padding='same', activation='relu'))\n",
        "model.add(MaxPooling2D(pool_size=(2, 2)))\n",
        "\n",
        "model.add(Conv2D(filters=filter[3], kernel_size=(2, 2), padding='same', activation='relu'))\n",
        "model.add(MaxPooling2D(pool_size=(2, 2)))\n",
        "\n",
        "model.add(Flatten())\n",
        "model.add(Dense(64, activation='relu'))\n",
        "model.add(Dense(classes, activation='softmax'))\n",
        "model.compile(loss='categorical_crossentropy', optimizer='sgd', metrics=['accuracy'])\n",
        "\n",
        "\n"
      ],
      "metadata": {
        "id": "fjq6F3g-ZaUm"
      },
      "execution_count": null,
      "outputs": []
    },
    {
      "cell_type": "code",
      "source": [
        "model.summary()"
      ],
      "metadata": {
        "colab": {
          "base_uri": "https://localhost:8080/"
        },
        "id": "Lwa2DTpdyYoO",
        "outputId": "931f13ab-25d3-46d6-a194-aadad8471700"
      },
      "execution_count": null,
      "outputs": [
        {
          "output_type": "stream",
          "name": "stdout",
          "text": [
            "Model: \"sequential_2\"\n",
            "_________________________________________________________________\n",
            " Layer (type)                Output Shape              Param #   \n",
            "=================================================================\n",
            " conv2d (Conv2D)             (None, 28, 28, 6)         60        \n",
            "                                                                 \n",
            " max_pooling2d (MaxPooling2  (None, 14, 14, 6)         0         \n",
            " D)                                                              \n",
            "                                                                 \n",
            " conv2d_1 (Conv2D)           (None, 14, 14, 32)        800       \n",
            "                                                                 \n",
            " max_pooling2d_1 (MaxPoolin  (None, 7, 7, 32)          0         \n",
            " g2D)                                                            \n",
            "                                                                 \n",
            " conv2d_2 (Conv2D)           (None, 7, 7, 80)          10320     \n",
            "                                                                 \n",
            " max_pooling2d_2 (MaxPoolin  (None, 3, 3, 80)          0         \n",
            " g2D)                                                            \n",
            "                                                                 \n",
            " conv2d_3 (Conv2D)           (None, 3, 3, 120)         38520     \n",
            "                                                                 \n",
            " max_pooling2d_3 (MaxPoolin  (None, 1, 1, 120)         0         \n",
            " g2D)                                                            \n",
            "                                                                 \n",
            " flatten (Flatten)           (None, 120)               0         \n",
            "                                                                 \n",
            " dense (Dense)               (None, 64)                7744      \n",
            "                                                                 \n",
            " dense_1 (Dense)             (None, 10)                650       \n",
            "                                                                 \n",
            "=================================================================\n",
            "Total params: 58094 (226.93 KB)\n",
            "Trainable params: 58094 (226.93 KB)\n",
            "Non-trainable params: 0 (0.00 Byte)\n",
            "_________________________________________________________________\n"
          ]
        }
      ]
    },
    {
      "cell_type": "code",
      "source": [
        "model.fit(X_train,Y_train,validation_split=0.2,epochs=15,batch_size=64,verbose=1)"
      ],
      "metadata": {
        "colab": {
          "base_uri": "https://localhost:8080/"
        },
        "id": "J2TKU_qsz7-V",
        "outputId": "343046c5-0bb3-4cee-a388-92f3a6e6d7b2"
      },
      "execution_count": null,
      "outputs": [
        {
          "output_type": "stream",
          "name": "stdout",
          "text": [
            "Epoch 1/15\n",
            "750/750 [==============================] - 15s 6ms/step - loss: 2.2509 - accuracy: 0.2452 - val_loss: 2.0289 - val_accuracy: 0.4383\n",
            "Epoch 2/15\n",
            "750/750 [==============================] - 4s 5ms/step - loss: 0.9588 - accuracy: 0.7024 - val_loss: 0.3503 - val_accuracy: 0.8893\n",
            "Epoch 3/15\n",
            "750/750 [==============================] - 4s 5ms/step - loss: 0.3040 - accuracy: 0.9046 - val_loss: 0.2218 - val_accuracy: 0.9305\n",
            "Epoch 4/15\n",
            "750/750 [==============================] - 4s 6ms/step - loss: 0.1912 - accuracy: 0.9406 - val_loss: 0.1761 - val_accuracy: 0.9423\n",
            "Epoch 5/15\n",
            "750/750 [==============================] - 4s 6ms/step - loss: 0.1408 - accuracy: 0.9567 - val_loss: 0.1214 - val_accuracy: 0.9615\n",
            "Epoch 6/15\n",
            "750/750 [==============================] - 3s 5ms/step - loss: 0.1125 - accuracy: 0.9648 - val_loss: 0.1241 - val_accuracy: 0.9617\n",
            "Epoch 7/15\n",
            "750/750 [==============================] - 5s 6ms/step - loss: 0.0962 - accuracy: 0.9697 - val_loss: 0.1122 - val_accuracy: 0.9637\n",
            "Epoch 8/15\n",
            "750/750 [==============================] - 4s 5ms/step - loss: 0.0852 - accuracy: 0.9730 - val_loss: 0.0771 - val_accuracy: 0.9768\n",
            "Epoch 9/15\n",
            "750/750 [==============================] - 4s 5ms/step - loss: 0.0748 - accuracy: 0.9770 - val_loss: 0.0866 - val_accuracy: 0.9722\n",
            "Epoch 10/15\n",
            "750/750 [==============================] - 4s 6ms/step - loss: 0.0682 - accuracy: 0.9780 - val_loss: 0.0913 - val_accuracy: 0.9725\n",
            "Epoch 11/15\n",
            "750/750 [==============================] - 4s 5ms/step - loss: 0.0627 - accuracy: 0.9798 - val_loss: 0.0844 - val_accuracy: 0.9736\n",
            "Epoch 12/15\n",
            "750/750 [==============================] - 4s 5ms/step - loss: 0.0582 - accuracy: 0.9815 - val_loss: 0.0653 - val_accuracy: 0.9803\n",
            "Epoch 13/15\n",
            "750/750 [==============================] - 4s 6ms/step - loss: 0.0549 - accuracy: 0.9824 - val_loss: 0.0718 - val_accuracy: 0.9772\n",
            "Epoch 14/15\n",
            "750/750 [==============================] - 4s 5ms/step - loss: 0.0502 - accuracy: 0.9839 - val_loss: 0.0656 - val_accuracy: 0.9788\n",
            "Epoch 15/15\n",
            "750/750 [==============================] - 4s 5ms/step - loss: 0.0468 - accuracy: 0.9851 - val_loss: 0.0638 - val_accuracy: 0.9796\n"
          ]
        },
        {
          "output_type": "execute_result",
          "data": {
            "text/plain": [
              "<keras.src.callbacks.History at 0x7b0f0070a950>"
            ]
          },
          "metadata": {},
          "execution_count": 12
        }
      ]
    },
    {
      "cell_type": "code",
      "source": [
        "from sklearn.metrics import accuracy_score\n",
        "import numpy as np\n",
        "import matplotlib.pyplot as plt\n",
        "y_pred_probs=model.predict(X_test,verbose=0)\n",
        "y_pred=np.where(y_pred_probs>0.5,1,0)\n",
        "test_accuracy=accuracy_score(y_pred,Y_test)\n",
        "print(\"\\nTest acuracy:{}\".format(test_accuracy))"
      ],
      "metadata": {
        "colab": {
          "base_uri": "https://localhost:8080/"
        },
        "id": "5GwonBnT1IW6",
        "outputId": "c4616a8b-2522-45a9-bc0e-eb6d866b183a"
      },
      "execution_count": null,
      "outputs": [
        {
          "output_type": "stream",
          "name": "stdout",
          "text": [
            "\n",
            "Test acuracy:0.9809\n"
          ]
        }
      ]
    },
    {
      "cell_type": "code",
      "source": [
        "mask=range(20,50)\n",
        "X_valid=X_test[0:20]\n",
        "actual_labels=Y_test[0:20]\n",
        "y_pred_probs_valid=model.predict(X_valid)\n",
        "y_pred_valid=np.where(y_pred_probs_valid>0.5,1,0)\n",
        "n=len(X_valid)\n",
        "plt.figure(figsize=(20,4))\n",
        "for i in range (n):\n",
        "  ax=plt.subplot(2,n,i+1)\n",
        "  plt.imshow(X_valid[i].reshape(28,28))\n",
        "  plt.gray()\n",
        "  ax.get_xaxis().set_visible(False)\n",
        "  ax.get_yaxis().set_visible(False)\n",
        "  prediccted_digit=np.argmax(y_pred_probs_valid[i])\n",
        "  ax=plt.subplot(2,n,i+1+n)\n",
        "  plt.text(0.5,0.5,str(prediccted_digit),fontsize=12,ha='center',va='center')\n",
        "  plt.axis('off')\n",
        "\n",
        "plt.show()\n",
        "plt.close()"
      ],
      "metadata": {
        "colab": {
          "base_uri": "https://localhost:8080/",
          "height": 260
        },
        "id": "0EZyOmGH1WEY",
        "outputId": "943d3dfd-4af0-4feb-f86c-65cba50beaa8"
      },
      "execution_count": null,
      "outputs": [
        {
          "output_type": "stream",
          "name": "stdout",
          "text": [
            "1/1 [==============================] - 0s 115ms/step\n"
          ]
        },
        {
          "output_type": "display_data",
          "data": {
            "text/plain": [
              "<Figure size 2000x400 with 40 Axes>"
            ],
            "image/png": "[encoded data removed]"
          },
          "metadata": {}
        }
      ]
    }
  ]
}